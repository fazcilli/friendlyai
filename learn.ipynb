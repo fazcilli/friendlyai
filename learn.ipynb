{
 "cells": [
  {
   "cell_type": "code",
   "execution_count": 20,
   "metadata": {
    "collapsed": true,
    "pycharm": {
     "name": "#%%\n"
    }
   },
   "outputs": [],
   "source": [
    "from pgmpy.models import MarkovModel\n",
    "import pandas as pd\n",
    "import numpy as np\n",
    "\n",
    "train_data = pd.read_csv('./data/cleaned_train.csv', index_col=0)\n",
    "test_data = pd.read_csv('./data/cleaned_test.csv', index_col=0)\n",
    "# train_data.drop(columns=0, axis=0, inplace=True)\n",
    "columns = list(train_data.columns)\n",
    "continuos = ['age', 'fnlwgt', 'education-num', 'capital-gain', 'capital-loss', 'hours-per-week']\n",
    "discrete = list(set(columns).difference(set(continuos)))\n",
    "\n",
    "def get_discrete_options(text):\n",
    "\treturn [x.strip().lower() for x in text.split(',')]\n",
    "\n",
    "\n",
    "\n",
    "discrete_options = {\n",
    "\t'native-country': get_discrete_options('United-States, Cambodia, England, Puerto-Rico, Canada, Germany, Outlying-US(Guam-USVI-etc), India, Japan, Greece, South, China, Cuba, Iran, Honduras, Philippines, Italy, Poland, Jamaica, Vietnam, Mexico, Portugal, Ireland, France, Dominican-Republic, Laos, Ecuador, Taiwan, Haiti, Columbia, Hungary, Guatemala, Nicaragua, Scotland, Thailand, Yugoslavia, El-Salvador, Trinadad&Tobago, Peru, Hong, Holand-Netherlands'),\n",
    "\t'race': get_discrete_options('White, Asian-Pac-Islander, Amer-Indian-Eskimo, Other, Black'),\n",
    "\t'relationship': get_discrete_options('Wife, Own-child, Husband, Not-in-family, Other-relative, Unmarried'),\n",
    "\t'occupation': get_discrete_options('Tech-support, Craft-repair, Other-service, Sales, Exec-managerial, Prof-specialty, Handlers-cleaners, Machine-op-inspct, Adm-clerical, Farming-fishing, Transport-moving, Priv-house-serv, Protective-serv, Armed-Forces'),\n",
    "    'marital-status': get_discrete_options('Married-civ-spouse, Divorced, Never-married, Separated, Widowed, Married-spouse-absent, Married-AF-spouse'),\n",
    "\t'education': get_discrete_options('Bachelors, Some-college, 11th, HS-grad, Prof-school, Assoc-acdm, Assoc-voc, 9th, 7th-8th, 12th, Masters, 1st-4th, 10th, Doctorate, 5th-6th, Preschool'),\n",
    "\t'workclass': get_discrete_options('Private, Self-emp-not-inc, Self-emp-inc, Federal-gov, Local-gov, State-gov, Without-pay, Never-worked'),\n",
    "\t'income': ['<=50k', '>50k'],\n",
    "\t'sex': ['female', 'male'],\n",
    "}\n",
    "\n",
    "def tokenize(var, value):\n",
    "\treturn discrete_options[var].index(value) + 1\n",
    "\n",
    "train_data = train_data[continuos + discrete]\n",
    "test_data = test_data[continuos + discrete]\n",
    "for i, row in train_data.iterrows():\n",
    "    for field in discrete:\n",
    "        train_data.at[i, field] = tokenize(field, row[field].strip().lower())\n",
    "for i, row in test_data.iterrows():\n",
    "    for field in discrete:\n",
    "        test_data.at[i, field] = tokenize(field, row[field].strip().lower())\n",
    "test_data.to_csv('./data/test.csv')\n",
    "# train_data.to_csv('./data/train.csv')"
   ]
  },
  {
   "cell_type": "code",
   "execution_count": 19,
   "outputs": [
    {
     "data": {
      "text/plain": "array([1, 5, 2, 3, 4], dtype=object)"
     },
     "execution_count": 19,
     "metadata": {},
     "output_type": "execute_result"
    }
   ],
   "source": [
    "columns = list(train_data.columns)\n",
    "train_data['race'].unique()"
   ],
   "metadata": {
    "collapsed": false,
    "pycharm": {
     "name": "#%%\n"
    }
   }
  },
  {
   "cell_type": "code",
   "execution_count": null,
   "outputs": [],
   "source": [
    "s = len(continuos)\n",
    "r = len(discrete)\n",
    "\n",
    "def cond_cont(x, y, x_ind, B_s, a_s, ro_s):\n",
    "\tres = a_s\n",
    "\tfor j in range(r):\n",
    "\t\tres += ro_s[j][y[j]]\n",
    "\tfor t in range(s):\n",
    "\t\tif x_ind != t:\n",
    "\t\t\tres -= B_s[t]*x[t]\n",
    "\tres = (-1*B_s[x_ind]/2)*(res / B_s[x_ind] - x[x_ind])**2\n",
    "\tres += np.log(B_s[x_ind])/2 - np.log(2*np.pi)/2\n",
    "\treturn res\n",
    "\n",
    "def cond_discrete(x, y, y_ind, phi_r, ro):\n",
    "\tdef b_l(l):\n",
    "\t    res = 0\n",
    "\t    for i in range(s):\n",
    "\t        res += ro[i, y_ind][l]*x[i]\n",
    "\t    res += phi_r[y_ind][l, l]\n",
    "\t    for j in range(r):\n",
    "\t        if j != y_ind:\n",
    "\t            res += phi_r[j][l, y[j]]\n",
    "\tvar = discrete[y_ind]\n",
    "\toptions = len(discrete_options[var])\n",
    "\tprobs = np.zeros(options)\n",
    "\tfor i in range(options):\n",
    "\t\tprobs[i] = b_l(i)\n",
    "\tprobs /= np.sum(probs)\n",
    "\treturn probs[y[y_ind]]\n",
    "\n",
    "def log_likelihood_instance(row):\n",
    "\tres = 0\n",
    "\tbeta = np.random.rand(s*s).reshape(s,s)\n",
    "\talpha = np.random.rand(s)\n",
    "\tro = np.empty((s, r))\n",
    "\tfor i in range(s):\n",
    "\t\tfor j, var in enumerate(discrete):\n",
    "\t\t\toptions_length = len(discrete_options[var])\n",
    "\t\t\tro[i, j] = np.random.rand(options_length)\n",
    "\t\t\tro[i, j] /= np.sum(ro[i, j])\n",
    "\n",
    "\tphi = np.empty((r, r))\n",
    "\tfor i in range(r):\n",
    "\t\tfor j in range(r):\n",
    "\t\t\tlen1 = len(discrete_options[discrete[i]])\n",
    "\t\t\tlen2 = len(discrete_options[discrete[j]])\n",
    "\t\t\tphi[i, j] = np.random.rand(len1*len2).reshape(len1, len2)\n",
    "\n",
    "\tfor i in range(s):\n",
    "\t\tres += cond_cont(row[:s], row[s:], i, B_s=beta[i], a_s=alpha[i], ro_s=ro[i])\n",
    "\tfor j in range(r):\n",
    "\t\tres += cond_discrete(row[:s], row[s:], j, phi_r=phi[j], ro=ro)\n",
    "\treturn res\n",
    "\n",
    "def log_likelihood():\n",
    "\tres = 0\n",
    "\tfor i, row in train_data.iter_rows():\n",
    "\t\tres += log_likelihood_instance(row)\n",
    "\treturn res"
   ],
   "metadata": {
    "collapsed": false,
    "pycharm": {
     "name": "#%%\n"
    }
   }
  },
  {
   "cell_type": "code",
   "execution_count": 24,
   "outputs": [],
   "source": [
    "preds = pd.read_csv('./data/predictions.csv', index_col=0)\n",
    "true = pd.read_csv('./data/test.csv', index_col=0)\n",
    "true = true.values[:,-1]\n",
    "preds = preds.values[:, -1]"
   ],
   "metadata": {
    "collapsed": false,
    "pycharm": {
     "name": "#%%\n"
    }
   }
  },
  {
   "cell_type": "code",
   "execution_count": 33,
   "outputs": [],
   "source": [
    "res = preds == true"
   ],
   "metadata": {
    "collapsed": false,
    "pycharm": {
     "name": "#%%\n"
    }
   }
  },
  {
   "cell_type": "code",
   "execution_count": 34,
   "outputs": [
    {
     "ename": "TypeError",
     "evalue": "'tuple' object is not callable",
     "output_type": "error",
     "traceback": [
      "\u001B[0;31m---------------------------------------------------------------------------\u001B[0m",
      "\u001B[0;31mTypeError\u001B[0m                                 Traceback (most recent call last)",
      "\u001B[0;32m<ipython-input-34-c3093f8202a6>\u001B[0m in \u001B[0;36m<module>\u001B[0;34m\u001B[0m\n\u001B[0;32m----> 1\u001B[0;31m \u001B[0ms\u001B[0m \u001B[0;34m=\u001B[0m \u001B[0mres\u001B[0m\u001B[0;34m.\u001B[0m\u001B[0msum\u001B[0m\u001B[0;34m(\u001B[0m\u001B[0;34m)\u001B[0m \u001B[0;34m/\u001B[0m \u001B[0mpreds\u001B[0m\u001B[0;34m.\u001B[0m\u001B[0mshape\u001B[0m\u001B[0;34m(\u001B[0m\u001B[0;36m1\u001B[0m\u001B[0;34m)\u001B[0m\u001B[0;34m\u001B[0m\u001B[0;34m\u001B[0m\u001B[0m\n\u001B[0m",
      "\u001B[0;31mTypeError\u001B[0m: 'tuple' object is not callable"
     ]
    }
   ],
   "source": [
    "s = res.sum() / preds.shape(1)"
   ],
   "metadata": {
    "collapsed": false,
    "pycharm": {
     "name": "#%%\n"
    }
   }
  },
  {
   "cell_type": "code",
   "execution_count": null,
   "outputs": [],
   "source": [],
   "metadata": {
    "collapsed": false,
    "pycharm": {
     "name": "#%%\n"
    }
   }
  }
 ],
 "metadata": {
  "kernelspec": {
   "display_name": "Python 3",
   "language": "python",
   "name": "python3"
  },
  "language_info": {
   "codemirror_mode": {
    "name": "ipython",
    "version": 2
   },
   "file_extension": ".py",
   "mimetype": "text/x-python",
   "name": "python",
   "nbconvert_exporter": "python",
   "pygments_lexer": "ipython2",
   "version": "2.7.6"
  }
 },
 "nbformat": 4,
 "nbformat_minor": 0
}